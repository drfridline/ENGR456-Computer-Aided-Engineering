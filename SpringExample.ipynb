{
 "cells": [
  {
   "cell_type": "markdown",
   "metadata": {},
   "source": [
    "<center><h3>ENGR 456 Computer Aided Engineering</h3></center>\n",
    "<center><h4>Fall 2020</h4></center><br>\n",
    "<center><h4>1D Spring Finite Element</h4></center>\n",
    "\n",
    "Consider the following system consisting of two linear springs with $k^{(1)} = 100$ kN/m and $k^{(2)} = 100$ kN/m.  Spring element 1 is fixed to the wall at the left end and a load $P = 15$ kN is applied to the free end of element 2 at the right end.\n",
    "\n",
    "<center><img src=\"ExampleSprings.png\" width=250 /></center>\n",
    "\n",
    "We wish to use the finite element method to determine\n",
    "1. the global stiffness matrix for the system,\n",
    "2. the displacements at nodes 2 and 3,\n",
    "3. the reaction force at node 1, and\n",
    "4. the force in each spring.\n"
   ]
  },
  {
   "cell_type": "markdown",
   "metadata": {},
   "source": [
    "#### Step 0: Import Required Python Libraries"
   ]
  },
  {
   "cell_type": "code",
   "execution_count": null,
   "metadata": {},
   "outputs": [],
   "source": []
  },
  {
   "cell_type": "markdown",
   "metadata": {},
   "source": [
    "#### Step 1: Discretize the Domain\n",
    "Since this has already been done for us in the problem description, we only need to set up the element connectivity array based on the element/node numbering provided to us in the problem description."
   ]
  },
  {
   "cell_type": "code",
   "execution_count": null,
   "metadata": {},
   "outputs": [],
   "source": []
  },
  {
   "cell_type": "markdown",
   "metadata": {},
   "source": [
    "#### Step 2: Define the Element Stiffness\n",
    "Consider a spring element with two nodes $i$ and $j$ as shown.\n",
    "\n",
    "<center><img src=\"SpringElement.png\" width=250 /></center>\n",
    "\n",
    "The element stiffness matrix is given as\n",
    "\n",
    "$$ [\\mathbf{K}^{(e)}] = k^{(e)}\\begin{bmatrix}1 & -1 \\\\ -1 & 1 \\end{bmatrix} $$\n",
    "\n",
    "For this simple problem, we will just store the stiffness values in an array and take care of the element stiffness matrices when we do the global assembly."
   ]
  },
  {
   "cell_type": "code",
   "execution_count": null,
   "metadata": {},
   "outputs": [],
   "source": []
  },
  {
   "cell_type": "markdown",
   "metadata": {},
   "source": [
    "#### Step 3: Assemble the Global Stiffness Matrix\n",
    "The element stiffness matrices are _broadcast_ into the global stiffness matrix in rows and columns corressponding to their degrees of freedom.\n",
    "\n",
    "<center><img src=\"Assembly.png\" width=600 /></center>\n",
    "\n",
    "The easiest way to do this is is as follows:\n",
    "1. Set up the global stiffness matrix `K` as a `num_dof`$\\times$ `num_dof` array.\n",
    "2. For every element in the system, fill a temporary `num_dof`$\\times$ `num_dof` array `K_temp` with the entries of the element stiffness matrix in the appropriate locations corresponding to the DOF's.\n",
    "3. Add the temporary array to the global stiffness matrix."
   ]
  },
  {
   "cell_type": "code",
   "execution_count": null,
   "metadata": {},
   "outputs": [],
   "source": []
  },
  {
   "cell_type": "markdown",
   "metadata": {},
   "source": [
    "#### Step 4: Apply Boundary Conditions and Loads\n",
    "Here we will set up storage for the load vector `F`, define any restrained degrees of freedom (B.C.'s) and remove the rows and columns corresponding to the restrained DOF's from the global stiffness matrix and load vector.  To prevent overwriting the original matrices we will create copies of them and work on the copies."
   ]
  },
  {
   "cell_type": "code",
   "execution_count": null,
   "metadata": {},
   "outputs": [],
   "source": []
  },
  {
   "cell_type": "markdown",
   "metadata": {},
   "source": [
    "#### Step 5: Solve the System of Equations\n",
    "Here we will use the `numpy.linalg.solve()` linear algebra equation solver function to invert the global stiffness matrix and solve for the unknown displacements.  We also should print out the results in a nice format."
   ]
  },
  {
   "cell_type": "code",
   "execution_count": null,
   "metadata": {},
   "outputs": [],
   "source": []
  },
  {
   "cell_type": "markdown",
   "metadata": {},
   "source": [
    "#### Step 6: Post-Process Results\n",
    "We wish to complete the process by computing the reaction force at node 1 along with the spring forces.  The forces can now be easily computed as follows:\n",
    "1. Create a global displacement vector from the solved solution and the restrained DOF's.\n",
    "2. Solve the global system of equations to determine the forces.\n",
    "\n",
    "$$ \\{\\textbf{F}\\} = [\\textbf{K}^{(g)}]\\{\\textbf{U}\\} $$\n",
    "\n",
    "3. Similarly, the element spring forces can be obtained by creating element displacement vectors and solving the element system equations as\n",
    "\n",
    "$$ \\{\\textbf{f}^{(e)}\\} = [\\textbf{K}^{(e)}]\\{\\textbf{u}^{(e)}\\} $$"
   ]
  },
  {
   "cell_type": "code",
   "execution_count": null,
   "metadata": {},
   "outputs": [],
   "source": []
  }
 ],
 "metadata": {
  "kernelspec": {
   "display_name": "Python 3",
   "language": "python",
   "name": "python3"
  },
  "language_info": {
   "codemirror_mode": {
    "name": "ipython",
    "version": 3
   },
   "file_extension": ".py",
   "mimetype": "text/x-python",
   "name": "python",
   "nbconvert_exporter": "python",
   "pygments_lexer": "ipython3",
   "version": "3.8.3"
  }
 },
 "nbformat": 4,
 "nbformat_minor": 4
}
